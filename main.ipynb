{
 "cells": [
  {
   "cell_type": "markdown",
   "metadata": {},
   "source": [
    "# Brain Tumor Segmentation using SLIC"
   ]
  },
  {
   "cell_type": "code",
   "execution_count": 1,
   "metadata": {},
   "outputs": [],
   "source": [
    "import cv2\n",
    "import numpy as np\n",
    "from matplotlib import pyplot as plt"
   ]
  },
  {
   "cell_type": "code",
   "execution_count": 2,
   "metadata": {},
   "outputs": [],
   "source": [
    "# img = cv2.imread('C:/Users/user/Downloads/final year sem 1/VIP/project/brain tumor dataset/images/181.png', cv2.IMREAD_GRAYSCALE)\n",
    "\n",
    "# #simple global thresholding\n",
    "# ret,th1 = cv2.threshold(img,90,255,cv2.THRESH_BINARY)\n",
    "\n",
    "# plt.figure(figsize=(12,6))\n",
    "# plt.subplot(121), plt.imshow(img,cmap='gray')\n",
    "# plt.title('Grayscale Image')\n",
    "# plt.xticks([]), plt.yticks([])\n",
    "# plt.subplot(122), plt.imshow(th1,cmap='gray')\n",
    "# plt.title('Binary Image (Threshold: '+str(ret)+')')\n",
    "# plt.xticks([]),plt.yticks([])\n",
    "# plt.show()"
   ]
  },
  {
   "cell_type": "code",
   "execution_count": 3,
   "metadata": {},
   "outputs": [],
   "source": [
    "# # morphological operations\n",
    "# kernel = np.ones((5, 5), np.uint8)\n",
    "# closing = cv2.morphologyEx(th1, cv2.MORPH_OPEN, kernel, iterations=7)\n",
    "\n",
    "# # Display the original and the result\n",
    "# plt.figure(figsize=(12, 6))\n",
    "\n",
    "# plt.subplot(1, 2, 1)\n",
    "# plt.title('Original Image')\n",
    "# plt.imshow(th1, cmap='gray')\n",
    "# plt.axis('off')\n",
    "\n",
    "# plt.subplot(1, 2, 2)\n",
    "# plt.title('Morphological Opening')\n",
    "# plt.imshow(closing, cmap='gray')\n",
    "# plt.axis('off')\n",
    "\n",
    "# plt.show()"
   ]
  },
  {
   "cell_type": "code",
   "execution_count": 4,
   "metadata": {},
   "outputs": [],
   "source": [
    "# import cv2\n",
    "# import numpy as np\n",
    "# from skimage.segmentation import mark_boundaries\n",
    "# from skimage.segmentation import slic\n",
    "# import matplotlib.pyplot as plt\n",
    "\n",
    "# # Read the image\n",
    "# img = cv2.imread('C:/Users/user/Downloads/final year sem 1/VIP/project/brain tumor dataset/images/181.png', cv2.IMREAD_COLOR)\n",
    "\n",
    "# # Convert the image from BGR to RGB (for display with matplotlib)\n",
    "# img_rgb = cv2.cvtColor(img, cv2.COLOR_BGR2RGB)\n",
    "\n",
    "# # Perform SLIC segmentation\n",
    "# segments = slic(img, n_segments=100, compactness=10)\n",
    "\n",
    "# # Create a mask using the segments\n",
    "# mask = np.zeros_like(img)\n",
    "# for seg_val in np.unique(segments):\n",
    "#     mask[segments == seg_val] = np.mean(img[segments == seg_val], axis=(0, 1))\n",
    "\n",
    "# # Display the original image and SLIC segmentation result\n",
    "# fig, ax = plt.subplots(1, 2, figsize=(12, 6))\n",
    "\n",
    "# ax[0].imshow(img_rgb)\n",
    "# ax[0].set_title('Original Image')\n",
    "\n",
    "# ax[1].imshow(mark_boundaries(img_rgb, segments))\n",
    "# ax[1].set_title('SLIC Segmentation')\n",
    "\n",
    "# plt.show()\n"
   ]
  },
  {
   "cell_type": "code",
   "execution_count": 6,
   "metadata": {},
   "outputs": [
    {
     "ename": "error",
     "evalue": "OpenCV(4.9.0) D:\\a\\opencv-python\\opencv-python\\opencv\\modules\\imgproc\\src\\color.cpp:196: error: (-215:Assertion failed) !_src.empty() in function 'cv::cvtColor'\n",
     "output_type": "error",
     "traceback": [
      "\u001b[1;31m---------------------------------------------------------------------------\u001b[0m",
      "\u001b[1;31merror\u001b[0m                                     Traceback (most recent call last)",
      "Cell \u001b[1;32mIn[6], line 23\u001b[0m\n\u001b[0;32m     20\u001b[0m img \u001b[38;5;241m=\u001b[39m cv2\u001b[38;5;241m.\u001b[39mimread(\u001b[38;5;124m\"\u001b[39m\u001b[38;5;124mC:/Users/user/Downloads/projects/Brain-Tumor-Segmentation/brain tumor dataset/preprocess/2.png\u001b[39m\u001b[38;5;124m\"\u001b[39m, \u001b[38;5;241m0\u001b[39m)\n\u001b[0;32m     22\u001b[0m \u001b[38;5;66;03m# Convert the image from BGR to RGB (for display with matplotlib)\u001b[39;00m\n\u001b[1;32m---> 23\u001b[0m img_rgb \u001b[38;5;241m=\u001b[39m \u001b[43mcv2\u001b[49m\u001b[38;5;241;43m.\u001b[39;49m\u001b[43mcvtColor\u001b[49m\u001b[43m(\u001b[49m\u001b[43mimg\u001b[49m\u001b[43m,\u001b[49m\u001b[43m \u001b[49m\u001b[43mcv2\u001b[49m\u001b[38;5;241;43m.\u001b[39;49m\u001b[43mCOLOR_BGR2RGB\u001b[49m\u001b[43m)\u001b[49m\n\u001b[0;32m     25\u001b[0m \u001b[38;5;66;03m# Perform SLIC segmentation\u001b[39;00m\n\u001b[0;32m     26\u001b[0m segments \u001b[38;5;241m=\u001b[39m slic(img, n_segments\u001b[38;5;241m=\u001b[39m\u001b[38;5;241m100\u001b[39m, compactness\u001b[38;5;241m=\u001b[39m\u001b[38;5;241m10\u001b[39m)\n",
      "\u001b[1;31merror\u001b[0m: OpenCV(4.9.0) D:\\a\\opencv-python\\opencv-python\\opencv\\modules\\imgproc\\src\\color.cpp:196: error: (-215:Assertion failed) !_src.empty() in function 'cv::cvtColor'\n"
     ]
    }
   ],
   "source": [
    "import cv2\n",
    "import numpy as np\n",
    "from skimage.segmentation import slic\n",
    "import matplotlib.pyplot as plt\n",
    "\n",
    "# Function to segment brain tumor based on highest pixel intensity\n",
    "def segment_tumor(img):\n",
    "    # Convert the image to grayscale\n",
    "    gray_img = cv2.cvtColor(img, cv2.COLOR_RGB2GRAY)\n",
    "    \n",
    "    # Find the maximum pixel intensity in the grayscale image\n",
    "    max_intensity = np.max(gray_img)\n",
    "    \n",
    "    # Threshold the grayscale image to create a mask for the tumor region\n",
    "    _, tumor_mask = cv2.threshold(gray_img, max_intensity - 10, 255, cv2.THRESH_BINARY)\n",
    "\n",
    "    return tumor_mask\n",
    "\n",
    "# Read the image\n",
    "img = cv2.imread(\"C:/Users/user/Downloads/projects/Brain-Tumor-Segmentation/brain tumor dataset/preprocess/2.png\", 0)\n",
    "\n",
    "# Convert the image from BGR to RGB (for display with matplotlib)\n",
    "img_rgb = cv2.cvtColor(img, cv2.COLOR_BGR2RGB)\n",
    "\n",
    "# Perform SLIC segmentation\n",
    "segments = slic(img, n_segments=100, compactness=10)\n",
    "\n",
    "# Create a mask using the segments\n",
    "mask = np.zeros_like(img)\n",
    "for seg_val in np.unique(segments):\n",
    "    mask[segments == seg_val] = np.mean(img[segments == seg_val], axis=(0, 1))\n",
    "\n",
    "# Segment the brain tumor based on highest pixel intensity\n",
    "tumor_mask = segment_tumor(mask)\n",
    "\n",
    "# Apply the tumor mask to the original image\n",
    "segmented_tumor = cv2.bitwise_and(img_rgb, img_rgb, mask=tumor_mask)\n",
    "\n",
    "# Display the original image, SLIC segmentation result, and segmented tumor region\n",
    "fig, ax = plt.subplots(1, 3, figsize=(20, 10))\n",
    "\n",
    "ax[0].imshow(img_rgb)\n",
    "ax[0].set_title('Original Image')\n",
    "\n",
    "ax[1].imshow(mask)\n",
    "ax[1].set_title('SLIC Segmentation')\n",
    "\n",
    "ax[2].imshow(segmented_tumor)\n",
    "ax[2].set_title('Segmented Tumor Region')\n",
    "plt.show()"
   ]
  },
  {
   "cell_type": "code",
   "execution_count": null,
   "metadata": {},
   "outputs": [],
   "source": []
  }
 ],
 "metadata": {
  "kernelspec": {
   "display_name": "Python 3",
   "language": "python",
   "name": "python3"
  },
  "language_info": {
   "codemirror_mode": {
    "name": "ipython",
    "version": 3
   },
   "file_extension": ".py",
   "mimetype": "text/x-python",
   "name": "python",
   "nbconvert_exporter": "python",
   "pygments_lexer": "ipython3",
   "version": "3.11.2"
  }
 },
 "nbformat": 4,
 "nbformat_minor": 2
}
