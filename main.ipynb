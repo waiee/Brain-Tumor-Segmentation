{
 "cells": [
  {
   "cell_type": "markdown",
   "metadata": {},
   "source": [
    "# Brain Tumor Segmentation using SLIC"
   ]
  },
  {
   "cell_type": "code",
   "execution_count": null,
   "metadata": {},
   "outputs": [],
   "source": [
    "import cv2\n",
    "import numpy as np\n",
    "from matplotlib import pyplot as plt"
   ]
  },
  {
   "cell_type": "code",
   "execution_count": null,
   "metadata": {},
   "outputs": [],
   "source": [
    "# img = cv2.imread('C:/Users/user/Downloads/final year sem 1/VIP/project/brain tumor dataset/images/181.png', cv2.IMREAD_GRAYSCALE)\n",
    "\n",
    "# #simple global thresholding\n",
    "# ret,th1 = cv2.threshold(img,90,255,cv2.THRESH_BINARY)\n",
    "\n",
    "# plt.figure(figsize=(12,6))\n",
    "# plt.subplot(121), plt.imshow(img,cmap='gray')\n",
    "# plt.title('Grayscale Image')\n",
    "# plt.xticks([]), plt.yticks([])\n",
    "# plt.subplot(122), plt.imshow(th1,cmap='gray')\n",
    "# plt.title('Binary Image (Threshold: '+str(ret)+')')\n",
    "# plt.xticks([]),plt.yticks([])\n",
    "# plt.show()"
   ]
  },
  {
   "cell_type": "code",
   "execution_count": null,
   "metadata": {},
   "outputs": [],
   "source": [
    "# # morphological operations\n",
    "# kernel = np.ones((5, 5), np.uint8)\n",
    "# closing = cv2.morphologyEx(th1, cv2.MORPH_OPEN, kernel, iterations=7)\n",
    "\n",
    "# # Display the original and the result\n",
    "# plt.figure(figsize=(12, 6))\n",
    "\n",
    "# plt.subplot(1, 2, 1)\n",
    "# plt.title('Original Image')\n",
    "# plt.imshow(th1, cmap='gray')\n",
    "# plt.axis('off')\n",
    "\n",
    "# plt.subplot(1, 2, 2)\n",
    "# plt.title('Morphological Opening')\n",
    "# plt.imshow(closing, cmap='gray')\n",
    "# plt.axis('off')\n",
    "\n",
    "# plt.show()"
   ]
  },
  {
   "cell_type": "code",
   "execution_count": null,
   "metadata": {},
   "outputs": [],
   "source": [
    "# import cv2\n",
    "# import numpy as np\n",
    "# from skimage.segmentation import mark_boundaries\n",
    "# from skimage.segmentation import slic\n",
    "# import matplotlib.pyplot as plt\n",
    "\n",
    "# # Read the image\n",
    "# img = cv2.imread('C:/Users/user/Downloads/final year sem 1/VIP/project/brain tumor dataset/images/181.png', cv2.IMREAD_COLOR)\n",
    "\n",
    "# # Convert the image from BGR to RGB (for display with matplotlib)\n",
    "# img_rgb = cv2.cvtColor(img, cv2.COLOR_BGR2RGB)\n",
    "\n",
    "# # Perform SLIC segmentation\n",
    "# segments = slic(img, n_segments=100, compactness=10)\n",
    "\n",
    "# # Create a mask using the segments\n",
    "# mask = np.zeros_like(img)\n",
    "# for seg_val in np.unique(segments):\n",
    "#     mask[segments == seg_val] = np.mean(img[segments == seg_val], axis=(0, 1))\n",
    "\n",
    "# # Display the original image and SLIC segmentation result\n",
    "# fig, ax = plt.subplots(1, 2, figsize=(12, 6))\n",
    "\n",
    "# ax[0].imshow(img_rgb)\n",
    "# ax[0].set_title('Original Image')\n",
    "\n",
    "# ax[1].imshow(mark_boundaries(img_rgb, segments))\n",
    "# ax[1].set_title('SLIC Segmentation')\n",
    "\n",
    "# plt.show()\n"
   ]
  },
  {
   "cell_type": "code",
   "execution_count": null,
   "metadata": {},
   "outputs": [],
   "source": []
  },
  {
   "cell_type": "code",
   "execution_count": null,
   "metadata": {},
   "outputs": [
    {
     "ename": "AttributeError",
     "evalue": "'NoneType' object has no attribute 'ndim'",
     "output_type": "error",
     "traceback": [
      "\u001b[1;31m---------------------------------------------------------------------------\u001b[0m",
      "\u001b[1;31mAttributeError\u001b[0m                            Traceback (most recent call last)",
      "Cell \u001b[1;32mIn[36], line 27\u001b[0m\n\u001b[0;32m     24\u001b[0m img_rgb \u001b[38;5;241m=\u001b[39m cv2\u001b[38;5;241m.\u001b[39mimread(\u001b[38;5;124m\"\u001b[39m\u001b[38;5;124mC:/Users/user/Downloads/projects/Brain-Tumor-Segmentation/brain tumor dataset/preprocess/2.png\u001b[39m\u001b[38;5;124m\"\u001b[39m, cv2\u001b[38;5;241m.\u001b[39mCOLOR_BGR2GRAY)\n\u001b[0;32m     26\u001b[0m \u001b[38;5;66;03m# Perform SLIC segmentation\u001b[39;00m\n\u001b[1;32m---> 27\u001b[0m segments \u001b[38;5;241m=\u001b[39m \u001b[43mslic\u001b[49m\u001b[43m(\u001b[49m\u001b[43mimg\u001b[49m\u001b[43m,\u001b[49m\u001b[43m \u001b[49m\u001b[43mn_segments\u001b[49m\u001b[38;5;241;43m=\u001b[39;49m\u001b[38;5;241;43m100\u001b[39;49m\u001b[43m,\u001b[49m\u001b[43m \u001b[49m\u001b[43mcompactness\u001b[49m\u001b[38;5;241;43m=\u001b[39;49m\u001b[38;5;241;43m10\u001b[39;49m\u001b[43m)\u001b[49m\n\u001b[0;32m     29\u001b[0m \u001b[38;5;66;03m# Create a mask using the segments\u001b[39;00m\n\u001b[0;32m     30\u001b[0m mask \u001b[38;5;241m=\u001b[39m np\u001b[38;5;241m.\u001b[39mzeros_like(img)\n",
      "File \u001b[1;32m~\\AppData\\Roaming\\Python\\Python311\\site-packages\\skimage\\_shared\\utils.py:316\u001b[0m, in \u001b[0;36mchannel_as_last_axis.__call__.<locals>.fixed_func\u001b[1;34m(*args, **kwargs)\u001b[0m\n\u001b[0;32m    313\u001b[0m channel_axis \u001b[38;5;241m=\u001b[39m kwargs\u001b[38;5;241m.\u001b[39mget(\u001b[38;5;124m'\u001b[39m\u001b[38;5;124mchannel_axis\u001b[39m\u001b[38;5;124m'\u001b[39m, \u001b[38;5;28;01mNone\u001b[39;00m)\n\u001b[0;32m    315\u001b[0m \u001b[38;5;28;01mif\u001b[39;00m channel_axis \u001b[38;5;129;01mis\u001b[39;00m \u001b[38;5;28;01mNone\u001b[39;00m:\n\u001b[1;32m--> 316\u001b[0m     \u001b[38;5;28;01mreturn\u001b[39;00m \u001b[43mfunc\u001b[49m\u001b[43m(\u001b[49m\u001b[38;5;241;43m*\u001b[39;49m\u001b[43margs\u001b[49m\u001b[43m,\u001b[49m\u001b[43m \u001b[49m\u001b[38;5;241;43m*\u001b[39;49m\u001b[38;5;241;43m*\u001b[39;49m\u001b[43mkwargs\u001b[49m\u001b[43m)\u001b[49m\n\u001b[0;32m    318\u001b[0m \u001b[38;5;66;03m# TODO: convert scalars to a tuple in anticipation of eventually\u001b[39;00m\n\u001b[0;32m    319\u001b[0m \u001b[38;5;66;03m#       supporting a tuple of channel axes. Right now, only an\u001b[39;00m\n\u001b[0;32m    320\u001b[0m \u001b[38;5;66;03m#       integer or a single-element tuple is supported, though.\u001b[39;00m\n\u001b[0;32m    321\u001b[0m \u001b[38;5;28;01mif\u001b[39;00m np\u001b[38;5;241m.\u001b[39misscalar(channel_axis):\n",
      "File \u001b[1;32m~\\AppData\\Roaming\\Python\\Python311\\site-packages\\skimage\\segmentation\\slic_superpixels.py:250\u001b[0m, in \u001b[0;36mslic\u001b[1;34m(image, n_segments, compactness, max_num_iter, sigma, spacing, convert2lab, enforce_connectivity, min_size_factor, max_size_factor, slic_zero, start_label, mask, channel_axis)\u001b[0m\n\u001b[0;32m    111\u001b[0m \u001b[38;5;129m@utils\u001b[39m\u001b[38;5;241m.\u001b[39mchannel_as_last_axis(multichannel_output\u001b[38;5;241m=\u001b[39m\u001b[38;5;28;01mFalse\u001b[39;00m)\n\u001b[0;32m    112\u001b[0m \u001b[38;5;28;01mdef\u001b[39;00m \u001b[38;5;21mslic\u001b[39m(image, n_segments\u001b[38;5;241m=\u001b[39m\u001b[38;5;241m100\u001b[39m, compactness\u001b[38;5;241m=\u001b[39m\u001b[38;5;241m10.\u001b[39m, max_num_iter\u001b[38;5;241m=\u001b[39m\u001b[38;5;241m10\u001b[39m, sigma\u001b[38;5;241m=\u001b[39m\u001b[38;5;241m0\u001b[39m,\n\u001b[0;32m    113\u001b[0m          spacing\u001b[38;5;241m=\u001b[39m\u001b[38;5;28;01mNone\u001b[39;00m, convert2lab\u001b[38;5;241m=\u001b[39m\u001b[38;5;28;01mNone\u001b[39;00m,\n\u001b[0;32m    114\u001b[0m          enforce_connectivity\u001b[38;5;241m=\u001b[39m\u001b[38;5;28;01mTrue\u001b[39;00m, min_size_factor\u001b[38;5;241m=\u001b[39m\u001b[38;5;241m0.5\u001b[39m, max_size_factor\u001b[38;5;241m=\u001b[39m\u001b[38;5;241m3\u001b[39m,\n\u001b[0;32m    115\u001b[0m          slic_zero\u001b[38;5;241m=\u001b[39m\u001b[38;5;28;01mFalse\u001b[39;00m, start_label\u001b[38;5;241m=\u001b[39m\u001b[38;5;241m1\u001b[39m, mask\u001b[38;5;241m=\u001b[39m\u001b[38;5;28;01mNone\u001b[39;00m, \u001b[38;5;241m*\u001b[39m,\n\u001b[0;32m    116\u001b[0m          channel_axis\u001b[38;5;241m=\u001b[39m\u001b[38;5;241m-\u001b[39m\u001b[38;5;241m1\u001b[39m):\n\u001b[0;32m    117\u001b[0m \u001b[38;5;250m    \u001b[39m\u001b[38;5;124;03m\"\"\"Segments image using k-means clustering in Color-(x,y,z) space.\u001b[39;00m\n\u001b[0;32m    118\u001b[0m \n\u001b[0;32m    119\u001b[0m \u001b[38;5;124;03m    Parameters\u001b[39;00m\n\u001b[1;32m   (...)\u001b[0m\n\u001b[0;32m    248\u001b[0m \n\u001b[0;32m    249\u001b[0m \u001b[38;5;124;03m    \"\"\"\u001b[39;00m\n\u001b[1;32m--> 250\u001b[0m     \u001b[38;5;28;01mif\u001b[39;00m \u001b[43mimage\u001b[49m\u001b[38;5;241;43m.\u001b[39;49m\u001b[43mndim\u001b[49m \u001b[38;5;241m==\u001b[39m \u001b[38;5;241m2\u001b[39m \u001b[38;5;129;01mand\u001b[39;00m channel_axis \u001b[38;5;129;01mis\u001b[39;00m \u001b[38;5;129;01mnot\u001b[39;00m \u001b[38;5;28;01mNone\u001b[39;00m:\n\u001b[0;32m    251\u001b[0m         \u001b[38;5;28;01mraise\u001b[39;00m \u001b[38;5;167;01mValueError\u001b[39;00m(\n\u001b[0;32m    252\u001b[0m             \u001b[38;5;124mf\u001b[39m\u001b[38;5;124m\"\u001b[39m\u001b[38;5;124mchannel_axis=\u001b[39m\u001b[38;5;132;01m{\u001b[39;00mchannel_axis\u001b[38;5;132;01m}\u001b[39;00m\u001b[38;5;124m indicates multichannel, which is not \u001b[39m\u001b[38;5;124m\"\u001b[39m\n\u001b[0;32m    253\u001b[0m             \u001b[38;5;124m\"\u001b[39m\u001b[38;5;124msupported for a two-dimensional image; use channel_axis=None if \u001b[39m\u001b[38;5;124m\"\u001b[39m\n\u001b[0;32m    254\u001b[0m             \u001b[38;5;124m\"\u001b[39m\u001b[38;5;124mthe image is grayscale\u001b[39m\u001b[38;5;124m\"\u001b[39m\n\u001b[0;32m    255\u001b[0m         )\n\u001b[0;32m    257\u001b[0m     image \u001b[38;5;241m=\u001b[39m img_as_float(image)\n",
      "\u001b[1;31mAttributeError\u001b[0m: 'NoneType' object has no attribute 'ndim'"
     ]
    }
   ],
   "source": [
    "import cv2\n",
    "import numpy as np\n",
    "from skimage.segmentation import slic\n",
    "import matplotlib.pyplot as plt\n",
    "\n",
    "# Function to segment brain tumor based on highest pixel intensity\n",
    "def segment_tumor(img):\n",
    "    # Convert the image to grayscale\n",
    "    gray_img = cv2.cvtColor(img, cv2.COLOR_RGB2GRAY)\n",
    "    \n",
    "    # Find the maximum pixel intensity in the grayscale image\n",
    "    max_intensity = np.max(gray_img)\n",
    "    \n",
    "    # Threshold the grayscale image to create a mask for the tumor region\n",
    "    _, tumor_mask = cv2.threshold(gray_img, max_intensity - 10, 255, cv2.THRESH_BINARY)\n",
    "\n",
    "    return tumor_mask\n",
    "\n",
    "# Read the image\n",
    "img = cv2.imread(\"C:/Users/user/Downloads/projects/Brain-Tumor-Segmentation/brain tumor dataset/preprocess/2.png\", cv2.COLOR_BGR2GRAY)\n",
    "\n",
    "# Convert the image from BGR to RGB (for display with matplotlib)\n",
    "# img_rgb = cv2.cvtColor(img, cv2.COLOR_BGR2RGB)\n",
    "img_rgb = cv2.imread(\"C:/Users/user/Downloads/projects/Brain-Tumor-Segmentation/brain tumor dataset/preprocess/2.png\", cv2.COLOR_BGR2GRAY)\n",
    "\n",
    "# Perform SLIC segmentation\n",
    "segments = slic(img, n_segments=100, compactness=10)\n",
    "\n",
    "# Create a mask using the segments\n",
    "mask = np.zeros_like(img)\n",
    "for seg_val in np.unique(segments):\n",
    "    mask[segments == seg_val] = np.mean(img[segments == seg_val], axis=(0, 1))\n",
    "\n",
    "# Segment the brain tumor based on highest pixel intensity\n",
    "tumor_mask = segment_tumor(mask)\n",
    "\n",
    "# Apply the tumor mask to the original image\n",
    "segmented_tumor = cv2.bitwise_and(img_rgb, img_rgb, mask=tumor_mask)\n",
    "\n",
    "# Display the original image, SLIC segmentation result, and segmented tumor region\n",
    "fig, ax = plt.subplots(1, 3, figsize=(20, 10))\n",
    "\n",
    "ax[0].imshow(img_rgb)\n",
    "ax[0].set_title('Original Image')\n",
    "\n",
    "ax[1].imshow(mask)\n",
    "ax[1].set_title('SLIC Segmentation')\n",
    "\n",
    "ax[2].imshow(segmented_tumor)\n",
    "ax[2].set_title('Segmented Tumor Region')\n",
    "plt.show()"
   ]
  },
  {
   "cell_type": "code",
   "execution_count": null,
   "metadata": {},
   "outputs": [],
   "source": []
  }
 ],
 "metadata": {
  "kernelspec": {
   "display_name": "Python 3",
   "language": "python",
   "name": "python3"
  },
  "language_info": {
   "codemirror_mode": {
    "name": "ipython",
    "version": 3
   },
   "file_extension": ".py",
   "mimetype": "text/x-python",
   "name": "python",
   "nbconvert_exporter": "python",
   "pygments_lexer": "ipython3",
   "version": "3.11.2"
  }
 },
 "nbformat": 4,
 "nbformat_minor": 2
}
